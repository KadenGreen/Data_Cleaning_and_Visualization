{
 "cells": [
  {
   "cell_type": "code",
   "execution_count": 4,
   "id": "13533ddb",
   "metadata": {},
   "outputs": [],
   "source": [
    "import pandas as pd"
   ]
  },
  {
   "cell_type": "code",
   "execution_count": 17,
   "id": "67c32d4c",
   "metadata": {},
   "outputs": [],
   "source": [
    "delays = pd.read_csv('Hartsfield_Jackson_Airport/Cleaned_Datasets/Cleaned_Delays', dtype = {'ORIGIN_AIRPORT' : str, 'DESTINATION_AIRPORT' : str})\n",
    "flights = pd.read_csv('Hartsfield_Jackson_Airport/Raw_Data/flights.csv', dtype = {'ORIGIN_AIRPORT' : str, 'DESTINATION_AIRPORT' : str})"
   ]
  },
  {
   "cell_type": "code",
   "execution_count": 102,
   "id": "6c6db7c5",
   "metadata": {
    "scrolled": true
   },
   "outputs": [
    {
     "data": {
      "text/plain": [
       "-43254.875"
      ]
     },
     "execution_count": 102,
     "metadata": {},
     "output_type": "execute_result"
    }
   ],
   "source": [
    "dayDict = { \n",
    "        1 : 'Monday',\n",
    "        2 : 'Tuesday',\n",
    "        3 : 'Wendsday',\n",
    "        4 : 'Thursday',\n",
    "        5 : 'Friday',\n",
    "        6 : 'Saturday',\n",
    "        7 : 'Sunday'\n",
    "    }\n",
    "explode = (0, 0, 0, 0, 0, 0, 0)\n",
    "delaysDays = pd.DataFrame()\n",
    "delaysAir = pd.DataFrame()\n",
    "temp = pd.DataFrame()\n",
    "delaysDays['FLIGHTS'] = flights['DAY_OF_WEEK'].apply(lambda x : dayDict[x]).value_counts()\n",
    "delaysDays['DELAYS'] = delays['DAY_OF_WEEK'].apply(lambda x : dayDict[x]).value_counts()\n",
    "\n",
    "#delaysDays.plot(kind = 'pie', subplots = True, figsize = (15,5), autopct='%1.2f%%', cmap = 'tab10', legend = False, \n",
    "#                shadow = True, startangle=15, labeldistance=1.2)\n",
    "\n",
    "delaysAir['AMOUNT'] = delays['AIRLINE'].value_counts()\n",
    "lower_bound = delaysAir['AMOUNT'].quantile(0.25) -(delaysAir['AMOUNT'].quantile(0.75) - delaysAir['AMOUNT'].quantile(0.25)* 1.5)\n",
    "lower_bound\n",
    "#delaysAir.drop(delaysAir[delaysAir['AMOUNT'] / delaysAir['AMOUNT'].sum() < delaysAir['AMOUNT'].median() - (iqr * 1.5) / delaysAir['AMOUNT'].sum()].index, inplace = True)\n",
    "#delaysAir.loc['OTHERS'] = delays['AIRLINE'].value_counts().sum() - delaysAir.sum()\n",
    "\n",
    "#delaysAir\n",
    "\n",
    "#delaysAir.plot(kind = 'pie', subplots = True, figsize = (15,5), autopct='%1.2f%%', cmap = 'tab20', legend = False, \n",
    "#                shadow = True, startangle=15, labeldistance=1.2)"
   ]
  },
  {
   "cell_type": "code",
   "execution_count": null,
   "id": "3ddf0462",
   "metadata": {},
   "outputs": [],
   "source": []
  }
 ],
 "metadata": {
  "kernelspec": {
   "display_name": "Python 3 (ipykernel)",
   "language": "python",
   "name": "python3"
  },
  "language_info": {
   "codemirror_mode": {
    "name": "ipython",
    "version": 3
   },
   "file_extension": ".py",
   "mimetype": "text/x-python",
   "name": "python",
   "nbconvert_exporter": "python",
   "pygments_lexer": "ipython3",
   "version": "3.9.7"
  }
 },
 "nbformat": 4,
 "nbformat_minor": 5
}
