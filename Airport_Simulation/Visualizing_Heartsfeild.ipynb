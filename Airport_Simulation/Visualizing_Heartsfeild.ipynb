{
 "cells": [
  {
   "cell_type": "code",
   "execution_count": 107,
   "id": "13533ddb",
   "metadata": {},
   "outputs": [],
   "source": [
    "import pandas as pd"
   ]
  },
  {
   "cell_type": "code",
   "execution_count": 108,
   "id": "9061feac",
   "metadata": {},
   "outputs": [
    {
     "name": "stderr",
     "output_type": "stream",
     "text": [
      "C:\\Users\\K\\AppData\\Local\\Temp\\ipykernel_14896\\562053554.py:1: DtypeWarning: Columns (4,5) have mixed types. Specify dtype option on import or set low_memory=False.\n",
      "  delays = pd.read_csv('Git_Cleaning_Projects/In_Progress_Data_Cleaning_and_Visualization/Hartsfield_Jackson_Airport/Cleaned_Datasets/Cleaned_Delays')\n",
      "C:\\Users\\K\\AppData\\Local\\Temp\\ipykernel_14896\\562053554.py:2: DtypeWarning: Columns (7,8) have mixed types. Specify dtype option on import or set low_memory=False.\n",
      "  flights = pd.read_csv('Git_Cleaning_Projects/In_Progress_Data_Cleaning_and_Visualization/Hartsfield_Jackson_Airport/Raw_Data/flights.csv')\n"
     ]
    }
   ],
   "source": [
    "delays = pd.read_csv('Git_Cleaning_Projects/In_Progress_Data_Cleaning_and_Visualization/Hartsfield_Jackson_Airport/Cleaned_Datasets/Cleaned_Delays')\n",
    "flights = pd.read_csv('Git_Cleaning_Projects/In_Progress_Data_Cleaning_and_Visualization/Hartsfield_Jackson_Airport/Raw_Data/flights.csv')"
   ]
  },
  {
   "cell_type": "code",
   "execution_count": 123,
   "id": "6c6db7c5",
   "metadata": {
    "scrolled": true
   },
   "outputs": [
    {
     "data": {
      "text/html": [
       "<div>\n",
       "<style scoped>\n",
       "    .dataframe tbody tr th:only-of-type {\n",
       "        vertical-align: middle;\n",
       "    }\n",
       "\n",
       "    .dataframe tbody tr th {\n",
       "        vertical-align: top;\n",
       "    }\n",
       "\n",
       "    .dataframe thead th {\n",
       "        text-align: right;\n",
       "    }\n",
       "</style>\n",
       "<table border=\"1\" class=\"dataframe\">\n",
       "  <thead>\n",
       "    <tr style=\"text-align: right;\">\n",
       "      <th></th>\n",
       "      <th>AIRLINE</th>\n",
       "    </tr>\n",
       "  </thead>\n",
       "  <tbody>\n",
       "    <tr>\n",
       "      <th>WN</th>\n",
       "      <td>236626</td>\n",
       "    </tr>\n",
       "    <tr>\n",
       "      <th>AA</th>\n",
       "      <td>130279</td>\n",
       "    </tr>\n",
       "    <tr>\n",
       "      <th>DL</th>\n",
       "      <td>118023</td>\n",
       "    </tr>\n",
       "    <tr>\n",
       "      <th>EV</th>\n",
       "      <td>109184</td>\n",
       "    </tr>\n",
       "    <tr>\n",
       "      <th>OO</th>\n",
       "      <td>107795</td>\n",
       "    </tr>\n",
       "    <tr>\n",
       "      <th>UA</th>\n",
       "      <td>104722</td>\n",
       "    </tr>\n",
       "    <tr>\n",
       "      <th>MQ</th>\n",
       "      <td>60547</td>\n",
       "    </tr>\n",
       "    <tr>\n",
       "      <th>B6</th>\n",
       "      <td>59175</td>\n",
       "    </tr>\n",
       "    <tr>\n",
       "      <th>US</th>\n",
       "      <td>36549</td>\n",
       "    </tr>\n",
       "    <tr>\n",
       "      <th>NK</th>\n",
       "      <td>34221</td>\n",
       "    </tr>\n",
       "    <tr>\n",
       "      <th>F9</th>\n",
       "      <td>23570</td>\n",
       "    </tr>\n",
       "    <tr>\n",
       "      <th>AS</th>\n",
       "      <td>22352</td>\n",
       "    </tr>\n",
       "    <tr>\n",
       "      <th>VX</th>\n",
       "      <td>11778</td>\n",
       "    </tr>\n",
       "    <tr>\n",
       "      <th>HA</th>\n",
       "      <td>8618</td>\n",
       "    </tr>\n",
       "  </tbody>\n",
       "</table>\n",
       "</div>"
      ],
      "text/plain": [
       "    AIRLINE\n",
       "WN   236626\n",
       "AA   130279\n",
       "DL   118023\n",
       "EV   109184\n",
       "OO   107795\n",
       "UA   104722\n",
       "MQ    60547\n",
       "B6    59175\n",
       "US    36549\n",
       "NK    34221\n",
       "F9    23570\n",
       "AS    22352\n",
       "VX    11778\n",
       "HA     8618"
      ]
     },
     "execution_count": 123,
     "metadata": {},
     "output_type": "execute_result"
    }
   ],
   "source": [
    "dayDict = { \n",
    "        1 : 'Monday',\n",
    "        2 : 'Tuesday',\n",
    "        3 : 'Wendsday',\n",
    "        4 : 'Thursday',\n",
    "        5 : 'Friday',\n",
    "        6 : 'Saturday',\n",
    "        7 : 'Sunday'\n",
    "    }\n",
    "eplode = (0, 0, 0, 0, 0, 0, 0)\n",
    "delaysDays = pd.DataFrame()\n",
    "delaysAir = pd.DataFrame()\n",
    "delaysDays['FLIGHTS'] = flights['DAY_OF_WEEK'].apply(lambda x : dayDict[x]).value_counts()\n",
    "delaysDays['DELAYS'] = delays['DAY_OF_WEEK'].apply(lambda x : dayDict[x]).value_counts()\n",
    "delaysAir['AIRLINE'] = delays['AIRLINE'].value_counts()#.apply(lambda x : (delaysAir['AIRLINE'] + x / delays['AIRLINE'].nunique() if (x / delays['AIRLINE'].nunique() < 3))\n",
    "delaysAir\n",
    "#temp\n",
    "#delaysDays.plot(kind = 'pie', subplots = True, figsize = (15,5), autopct='%1.2f%%', cmap = 'tab10', legend = False, \n",
    "#                shadow = True, startangle=15, labeldistance=1.2)\n",
    "#delaysAir.plot(kind = 'pie', subplots = True, figsize = (15,5), autopct='%1.2f%%', cmap = 'tab20', legend = False, \n",
    "#                shadow = True, startangle=15, labeldistance=1.2)"
   ]
  },
  {
   "cell_type": "code",
   "execution_count": null,
   "id": "3ddf0462",
   "metadata": {},
   "outputs": [],
   "source": []
  }
 ],
 "metadata": {
  "kernelspec": {
   "display_name": "Python 3 (ipykernel)",
   "language": "python",
   "name": "python3"
  },
  "language_info": {
   "codemirror_mode": {
    "name": "ipython",
    "version": 3
   },
   "file_extension": ".py",
   "mimetype": "text/x-python",
   "name": "python",
   "nbconvert_exporter": "python",
   "pygments_lexer": "ipython3",
   "version": "3.9.12"
  }
 },
 "nbformat": 4,
 "nbformat_minor": 5
}
